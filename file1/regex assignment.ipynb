{
 "cells": [
  {
   "cell_type": "code",
   "execution_count": 8,
   "metadata": {},
   "outputs": [
    {
     "name": "stdout",
     "output_type": "stream",
     "text": [
      "enter the stringmhuhc/\n",
      "False\n"
     ]
    }
   ],
   "source": [
    "# Question 1- Write a RegEx pattern in python program to check that a string contains only a certain \n",
    "# set of characters (in this case a-z, A-Z and 0-9).\n",
    "import re\n",
    "pattern = \"^[A-Za-z0-9_-]*$\"\n",
    "string =input(\"enter the string\")\n",
    "string2 = bool(re.match(pattern, string))\n",
    "print(string2)"
   ]
  },
  {
   "cell_type": "code",
   "execution_count": 9,
   "metadata": {},
   "outputs": [
    {
     "name": "stdout",
     "output_type": "stream",
     "text": [
      "enter a string abbcbb\n",
      "it's a match\n"
     ]
    }
   ],
   "source": [
    "# Question 2- Write a RegEx pattern that matches a string that has an a followed by zero or more b's\n",
    "import re\n",
    "string = input('enter a string ')\n",
    "pattern = re.compile('ab*?')\n",
    "match1 = pattern.search(string)\n",
    "if match1:\n",
    "    print('it\\'s a match')\n",
    "else:\n",
    "    print('no match found')"
   ]
  },
  {
   "cell_type": "code",
   "execution_count": 11,
   "metadata": {},
   "outputs": [
    {
     "name": "stdout",
     "output_type": "stream",
     "text": [
      "enter a string cccccc\n",
      "no match found\n"
     ]
    }
   ],
   "source": [
    "# Question 3-  Write a RegEx pattern that matches a string that has an a followed by one or more b's\n",
    "import re\n",
    "string = input('enter a string ')\n",
    "patten = re.compile('ab+?')\n",
    "match1 = pattern.search(string)\n",
    "if match1:\n",
    "    print('it\\'s a match')\n",
    "else:\n",
    "    print('no match found')"
   ]
  },
  {
   "cell_type": "code",
   "execution_count": 12,
   "metadata": {},
   "outputs": [
    {
     "name": "stdout",
     "output_type": "stream",
     "text": [
      "enter a string abbbbb\n",
      "no match found\n"
     ]
    }
   ],
   "source": [
    "# Question 4- Write a RegEx pattern that matches a string that has an a followed by zero or one 'b'.\n",
    "import re\n",
    "string = input('enter a string ')\n",
    "pattern = re.compile('ab??')\n",
    "match1 = p.search(string)\n",
    "if m:\n",
    "    print('it\\'s a match')\n",
    "else:\n",
    "    print('no match found')\n"
   ]
  },
  {
   "cell_type": "code",
   "execution_count": 15,
   "metadata": {},
   "outputs": [
    {
     "name": "stdout",
     "output_type": "stream",
     "text": [
      "enter a string abb\n",
      "no match found\n"
     ]
    }
   ],
   "source": [
    "# Question 5- Write a RegEx pattern in python program that matches a string that has an a followed by three 'b'.\n",
    "import re\n",
    "string = input('enter a string ')\n",
    "pattern = re.compile('ab{3}?')\n",
    "match1 = pattern.search(string)\n",
    "if match1:\n",
    "    print('it\\'s a match')\n",
    "else:\n",
    "    print('no match found')\n"
   ]
  },
  {
   "cell_type": "code",
   "execution_count": 18,
   "metadata": {},
   "outputs": [
    {
     "name": "stdout",
     "output_type": "stream",
     "text": [
      "enter a string abb\n",
      "it's a match\n"
     ]
    }
   ],
   "source": [
    "# Question 6- Write a RegEx pattern in python program that matches a string that has an a followed by two to three 'b'.\n",
    "import re\n",
    "string = input('enter a string ')\n",
    "pattern = re.compile('ab{2,3}?')\n",
    "match1 = pattern.search(string)\n",
    "if match1:\n",
    "    print('it\\'s a match')\n",
    "else:\n",
    "    print('no match found')\n"
   ]
  },
  {
   "cell_type": "code",
   "execution_count": 20,
   "metadata": {},
   "outputs": [
    {
     "name": "stdout",
     "output_type": "stream",
     "text": [
      "enter a string accccb\n",
      "it's a match\n"
     ]
    }
   ],
   "source": [
    "# Question 7- Write a Python program that matches a string that has an 'a' followed by anything, ending in 'b'.\n",
    "import re\n",
    "string = input('enter a string ')\n",
    "pattern = re.compile('a.*?b$')\n",
    "match1 = pattern.search(string)\n",
    "if match1:\n",
    "    print('it\\'s a match')\n",
    "else:\n",
    "    print('no match found')\n"
   ]
  },
  {
   "cell_type": "code",
   "execution_count": 27,
   "metadata": {},
   "outputs": [
    {
     "name": "stdout",
     "output_type": "stream",
     "text": [
      "enter a string   abvcddfg\n",
      "no match found\n"
     ]
    }
   ],
   "source": [
    "# Question 8- Write a RegEx pattern in python program that matches a word at the beginning of a string.\n",
    "import re\n",
    "string = input('enter a string ')\n",
    "match1 = re.match('^\\w+',string)\n",
    "if match1:\n",
    "    print('it\\'s a match')\n",
    "else:\n",
    "    print('no match found')\n"
   ]
  },
  {
   "cell_type": "code",
   "execution_count": 30,
   "metadata": {},
   "outputs": [
    {
     "name": "stdout",
     "output_type": "stream",
     "text": [
      "enter a string vngihkn\n",
      "it's a match\n"
     ]
    }
   ],
   "source": [
    "# Question 9- Write a RegEx pattern in python program that matches a word at the end of a string.\n",
    "import re\n",
    "string = input('enter a string ')\n",
    "match1 = re.match('\\w+\\S*$',string)\n",
    "if match1:\n",
    "    print('it\\'s a match')\n",
    "else:\n",
    "    print('no match found')\n"
   ]
  },
  {
   "cell_type": "code",
   "execution_count": 34,
   "metadata": {},
   "outputs": [
    {
     "name": "stdout",
     "output_type": "stream",
     "text": [
      "enter the textyours notes not good\n",
      "['good']\n"
     ]
    }
   ],
   "source": [
    "# Question 10- Write a RegEx pattern in python program to find all words that are 4 digits long in a string.\n",
    "# Sample text- '01 0132 231875 1458 301 2725.'\n",
    "# Expected output- ['0132', '1458', '2725']\n",
    "import re\n",
    "string1 = input('enter the text')\n",
    "print(re.findall(r\"\\b\\w{4}\\b\", string1))\n"
   ]
  },
  {
   "cell_type": "code",
   "execution_count": null,
   "metadata": {},
   "outputs": [],
   "source": []
  }
 ],
 "metadata": {
  "kernelspec": {
   "display_name": "Python 3",
   "language": "python",
   "name": "python3"
  },
  "language_info": {
   "codemirror_mode": {
    "name": "ipython",
    "version": 3
   },
   "file_extension": ".py",
   "mimetype": "text/x-python",
   "name": "python",
   "nbconvert_exporter": "python",
   "pygments_lexer": "ipython3",
   "version": "3.7.6"
  }
 },
 "nbformat": 4,
 "nbformat_minor": 4
}
