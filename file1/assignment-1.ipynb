{
 "cells": [
  {
   "cell_type": "code",
   "execution_count": 1,
   "metadata": {},
   "outputs": [
    {
     "name": "stdout",
     "output_type": "stream",
     "text": [
      "15\n"
     ]
    }
   ],
   "source": [
    "#assignment\n",
    "#1 What will be the output of the following code snippet?\n",
    "def func(a, b):\n",
    " return b if a == 0 else func(b % a, a)\n",
    "print(func(30, 75))\n",
    "#%give us reminder"
   ]
  },
  {
   "cell_type": "code",
   "execution_count": 2,
   "metadata": {},
   "outputs": [
    {
     "name": "stdout",
     "output_type": "stream",
     "text": [
      "<class 'filter'>\n"
     ]
    }
   ],
   "source": [
    "#2 \n",
    "numbers = (4, 7, 19, 2, 89, 45, 72, 22)\n",
    "sorted_numbers = sorted(numbers)\n",
    "even = lambda a: a % 2 == 0\n",
    "even_numbers = filter(even, sorted_numbers)\n",
    "print(type(even_numbers))"
   ]
  },
  {
   "cell_type": "code",
   "execution_count": 3,
   "metadata": {},
   "outputs": [
    {
     "data": {
      "text/plain": [
       "tuple"
      ]
     },
     "execution_count": 3,
     "metadata": {},
     "output_type": "execute_result"
    }
   ],
   "source": [
    "#3\n",
    "# As what datatype are the *args stored, when passed into\n",
    "tuple"
   ]
  },
  {
   "cell_type": "code",
   "execution_count": 4,
   "metadata": {},
   "outputs": [
    {
     "ename": "TypeError",
     "evalue": "unsupported operand type(s) for +: 'set' and 'set'",
     "output_type": "error",
     "traceback": [
      "\u001b[1;31m---------------------------------------------------------------------------\u001b[0m",
      "\u001b[1;31mTypeError\u001b[0m                                 Traceback (most recent call last)",
      "\u001b[1;32m<ipython-input-4-f909295f626b>\u001b[0m in \u001b[0;36m<module>\u001b[1;34m\u001b[0m\n\u001b[0;32m      3\u001b[0m \u001b[0mset2\u001b[0m \u001b[1;33m=\u001b[0m \u001b[1;33m{\u001b[0m\u001b[1;36m82\u001b[0m\u001b[1;33m,\u001b[0m \u001b[1;36m49\u001b[0m\u001b[1;33m,\u001b[0m \u001b[1;36m62\u001b[0m\u001b[1;33m}\u001b[0m\u001b[1;33m\u001b[0m\u001b[1;33m\u001b[0m\u001b[0m\n\u001b[0;32m      4\u001b[0m \u001b[0mset3\u001b[0m\u001b[1;33m=\u001b[0m\u001b[1;33m{\u001b[0m\u001b[1;36m99\u001b[0m\u001b[1;33m,\u001b[0m\u001b[1;36m22\u001b[0m\u001b[1;33m,\u001b[0m\u001b[1;36m17\u001b[0m\u001b[1;33m}\u001b[0m\u001b[1;33m\u001b[0m\u001b[1;33m\u001b[0m\u001b[0m\n\u001b[1;32m----> 5\u001b[1;33m \u001b[0mprint\u001b[0m\u001b[1;33m(\u001b[0m\u001b[0mlen\u001b[0m\u001b[1;33m(\u001b[0m\u001b[0mset1\u001b[0m \u001b[1;33m+\u001b[0m \u001b[0mset2\u001b[0m \u001b[1;33m+\u001b[0m \u001b[0mset3\u001b[0m\u001b[1;33m)\u001b[0m\u001b[1;33m)\u001b[0m\u001b[1;33m\u001b[0m\u001b[1;33m\u001b[0m\u001b[0m\n\u001b[0m",
      "\u001b[1;31mTypeError\u001b[0m: unsupported operand type(s) for +: 'set' and 'set'"
     ]
    }
   ],
   "source": [
    "#4\n",
    "set1 = {14, 3, 55}\n",
    "set2 = {82, 49, 62}\n",
    "set3={99,22,17}\n",
    "print(len(set1 + set2 + set3))"
   ]
  },
  {
   "cell_type": "code",
   "execution_count": 7,
   "metadata": {},
   "outputs": [],
   "source": [
    "#5\n",
    "#What keyword is used in Python to raise exceptions?\n",
    "raise keyword"
   ]
  },
  {
   "cell_type": "code",
   "execution_count": 9,
   "metadata": {},
   "outputs": [
    {
     "ename": "NameError",
     "evalue": "name 'datetime' is not defined",
     "output_type": "error",
     "traceback": [
      "\u001b[1;31m---------------------------------------------------------------------------\u001b[0m",
      "\u001b[1;31mNameError\u001b[0m                                 Traceback (most recent call last)",
      "\u001b[1;32m<ipython-input-9-3b793fef173d>\u001b[0m in \u001b[0;36m<module>\u001b[1;34m\u001b[0m\n\u001b[0;32m      2\u001b[0m \u001b[1;31m# Which of the following modules need to be imported to handle date time computations in\u001b[0m\u001b[1;33m\u001b[0m\u001b[1;33m\u001b[0m\u001b[1;33m\u001b[0m\u001b[0m\n\u001b[0;32m      3\u001b[0m \u001b[1;31m#Python?\u001b[0m\u001b[1;33m\u001b[0m\u001b[1;33m\u001b[0m\u001b[1;33m\u001b[0m\u001b[0m\n\u001b[1;32m----> 4\u001b[1;33m \u001b[0mdatetime\u001b[0m\u001b[1;33m\u001b[0m\u001b[1;33m\u001b[0m\u001b[0m\n\u001b[0m",
      "\u001b[1;31mNameError\u001b[0m: name 'datetime' is not defined"
     ]
    }
   ],
   "source": [
    "#6\n",
    "# Which of the following modules need to be imported to handle date time computations in\n",
    "#Python?\n",
    "datetime\n"
   ]
  },
  {
   "cell_type": "code",
   "execution_count": 10,
   "metadata": {},
   "outputs": [
    {
     "name": "stdout",
     "output_type": "stream",
     "text": [
      "208\n"
     ]
    }
   ],
   "source": [
    "#7 What will be the output of the following code snippet?\n",
    "print(4**3 + (7 + 5)**(1 + 1))"
   ]
  },
  {
   "cell_type": "code",
   "execution_count": 11,
   "metadata": {},
   "outputs": [
    {
     "ename": "SyntaxError",
     "evalue": "invalid syntax (<ipython-input-11-f5e4f49fa478>, line 7)",
     "output_type": "error",
     "traceback": [
      "\u001b[1;36m  File \u001b[1;32m\"<ipython-input-11-f5e4f49fa478>\"\u001b[1;36m, line \u001b[1;32m7\u001b[0m\n\u001b[1;33m    a)straptime\u001b[0m\n\u001b[1;37m     ^\u001b[0m\n\u001b[1;31mSyntaxError\u001b[0m\u001b[1;31m:\u001b[0m invalid syntax\n"
     ]
    }
   ],
   "source": [
    "#8\n",
    "#Which of the following functions converts date to corresponding time in Python? \n",
    "#a) strptime\n",
    "#b) strftime\n",
    "#c) both a) and b)\n",
    "#d) None\n",
    "a)straptime"
   ]
  },
  {
   "cell_type": "code",
   "execution_count": 12,
   "metadata": {},
   "outputs": [
    {
     "ename": "SyntaxError",
     "evalue": "invalid syntax (<ipython-input-12-18abec8fbfcb>, line 7)",
     "output_type": "error",
     "traceback": [
      "\u001b[1;36m  File \u001b[1;32m\"<ipython-input-12-18abec8fbfcb>\"\u001b[1;36m, line \u001b[1;32m7\u001b[0m\n\u001b[1;33m    b)immutable\u001b[0m\n\u001b[1;37m     ^\u001b[0m\n\u001b[1;31mSyntaxError\u001b[0m\u001b[1;31m:\u001b[0m invalid syntax\n"
     ]
    }
   ],
   "source": [
    "#9\n",
    "# 9) The python tuple is _____ in nature.\n",
    "# a) mutable\n",
    "# b)immutable\n",
    "# c)unchangeable\n",
    "# d) none \n",
    "b)immutable\n"
   ]
  },
  {
   "cell_type": "code",
   "execution_count": 14,
   "metadata": {},
   "outputs": [
    {
     "ename": "SyntaxError",
     "evalue": "invalid syntax (<ipython-input-14-e7a7eeb1fe94>, line 7)",
     "output_type": "error",
     "traceback": [
      "\u001b[1;36m  File \u001b[1;32m\"<ipython-input-14-e7a7eeb1fe94>\"\u001b[1;36m, line \u001b[1;32m7\u001b[0m\n\u001b[1;33m    ans - A)range\u001b[0m\n\u001b[1;37m           ^\u001b[0m\n\u001b[1;31mSyntaxError\u001b[0m\u001b[1;31m:\u001b[0m invalid syntax\n"
     ]
    }
   ],
   "source": [
    "#10 The ___ is a built-in function that returns a range object that consists series of integer numbers, which\n",
    "# we can iterate using a for loop.\n",
    "# A. range()\n",
    "# B. set()\n",
    "# C. dictionary{}\n",
    "# D. None of the mentioned above\n",
    "ans - A)range"
   ]
  },
  {
   "cell_type": "code",
   "execution_count": 15,
   "metadata": {},
   "outputs": [
    {
     "ename": "SyntaxError",
     "evalue": "invalid syntax (<ipython-input-15-f28a6149f7a7>, line 6)",
     "output_type": "error",
     "traceback": [
      "\u001b[1;36m  File \u001b[1;32m\"<ipython-input-15-f28a6149f7a7>\"\u001b[1;36m, line \u001b[1;32m6\u001b[0m\n\u001b[1;33m    ans - c)Lambda function\u001b[0m\n\u001b[1;37m           ^\u001b[0m\n\u001b[1;31mSyntaxError\u001b[0m\u001b[1;31m:\u001b[0m invalid syntax\n"
     ]
    }
   ],
   "source": [
    "#11 Amongst which of the following is a function which does not have any name?\n",
    "# A. Del function\n",
    "# B. Show function\n",
    "# C. Lambda function\n",
    "# D. None of the mentioned above\n",
    "ans - c)Lambda function\n",
    "\n"
   ]
  },
  {
   "cell_type": "code",
   "execution_count": 16,
   "metadata": {},
   "outputs": [
    {
     "ename": "SyntaxError",
     "evalue": "invalid syntax (<ipython-input-16-097f8c621fab>, line 7)",
     "output_type": "error",
     "traceback": [
      "\u001b[1;36m  File \u001b[1;32m\"<ipython-input-16-097f8c621fab>\"\u001b[1;36m, line \u001b[1;32m7\u001b[0m\n\u001b[1;33m    ans - C)Both A and B\u001b[0m\n\u001b[1;37m           ^\u001b[0m\n\u001b[1;31mSyntaxError\u001b[0m\u001b[1;31m:\u001b[0m invalid syntax\n"
     ]
    }
   ],
   "source": [
    "# Question 12\n",
    "# The module Pickle is used to ___.\n",
    "# A. Serializing Python object structure\n",
    "# B. De-serializing Python object structure\n",
    "# C. Both A and B\n",
    "# D. None of the mentioned above\n",
    "ans - C)Both A and B"
   ]
  },
  {
   "cell_type": "code",
   "execution_count": 17,
   "metadata": {},
   "outputs": [
    {
     "ename": "SyntaxError",
     "evalue": "invalid syntax (<ipython-input-17-67b092bd071b>, line 8)",
     "output_type": "error",
     "traceback": [
      "\u001b[1;36m  File \u001b[1;32m\"<ipython-input-17-67b092bd071b>\"\u001b[1;36m, line \u001b[1;32m8\u001b[0m\n\u001b[1;33m    ANS - B)dump() method\u001b[0m\n\u001b[1;37m           ^\u001b[0m\n\u001b[1;31mSyntaxError\u001b[0m\u001b[1;31m:\u001b[0m invalid syntax\n"
     ]
    }
   ],
   "source": [
    "# Question 13\n",
    "# Amongst which of the following is / are the method of convert Python objects for writing data in\n",
    "# a binary file?\n",
    "# A. set() method\n",
    "# B. dump() method\n",
    "# C. load() method\n",
    "# D. None of the mentioned above\n",
    "ANS - B)dump() method\n"
   ]
  },
  {
   "cell_type": "code",
   "execution_count": 18,
   "metadata": {},
   "outputs": [
    {
     "ename": "SyntaxError",
     "evalue": "invalid syntax (<ipython-input-18-4636d3d62da4>, line 7)",
     "output_type": "error",
     "traceback": [
      "\u001b[1;36m  File \u001b[1;32m\"<ipython-input-18-4636d3d62da4>\"\u001b[1;36m, line \u001b[1;32m7\u001b[0m\n\u001b[1;33m    ans - A) load()\u001b[0m\n\u001b[1;37m           ^\u001b[0m\n\u001b[1;31mSyntaxError\u001b[0m\u001b[1;31m:\u001b[0m invalid syntax\n"
     ]
    }
   ],
   "source": [
    "# Question 14\n",
    "# Amongst which of the following is / are the method used to unpickling data from a binary file?\n",
    "# A. load()\n",
    "# B. set() method\n",
    "# C. dump() method\n",
    "# D. None of the mentioned above\n",
    "ans - A) load()\n",
    "\n"
   ]
  },
  {
   "cell_type": "code",
   "execution_count": 19,
   "metadata": {},
   "outputs": [
    {
     "ename": "SyntaxError",
     "evalue": "invalid syntax (<ipython-input-19-7fe0b09f4995>, line 8)",
     "output_type": "error",
     "traceback": [
      "\u001b[1;36m  File \u001b[1;32m\"<ipython-input-19-7fe0b09f4995>\"\u001b[1;36m, line \u001b[1;32m8\u001b[0m\n\u001b[1;33m    ans - D)  All of the mentioned above\u001b[0m\n\u001b[1;37m           ^\u001b[0m\n\u001b[1;31mSyntaxError\u001b[0m\u001b[1;31m:\u001b[0m invalid syntax\n"
     ]
    }
   ],
   "source": [
    "#  Question 15.\n",
    "# A text file contains only textual information consisting of ___.\n",
    "# A. Alphabets\n",
    "# B. Numbers\n",
    "# C. Special symbols\n",
    "# D. All of the mentioned above\n",
    "\n",
    "ans - D)  All of the mentioned above\n"
   ]
  },
  {
   "cell_type": "code",
   "execution_count": 24,
   "metadata": {},
   "outputs": [
    {
     "name": "stdout",
     "output_type": "stream",
     "text": [
      "Enterprise Picard\n",
      "Voyager Janeway\n",
      "Defiant Sisko\n",
      "Enterprise Picard\n",
      "Voyager Janeway\n",
      "Defiant Sisko\n"
     ]
    }
   ],
   "source": [
    "#  Question 16\n",
    "# Which Python code could replace the ellipsis (...) below to get the following output? (Select all that\n",
    "# apply.)\n",
    "captains = {\n",
    " \"Enterprise\": \"Picard\",\n",
    " \"Voyager\": \"Janeway\",\n",
    " \"Defiant\": \"Sisko\",\n",
    "}\n",
    "# Enterprise Picard,\n",
    "#  Voyager Janeway\n",
    "#  Defiant Sisko\n",
    "# a) for ship, captain in captains.items():\n",
    "#  print(ship, captain)\n",
    "# b) for ship in captains:\n",
    "#  print(ship, captains[ship])\n",
    "# c) for ship in captains:\n",
    "#  print(ship, captains)\n",
    "# d) both a and b\n",
    "for ship, captain in captains.items():\n",
    "    print(ship, captain)\n",
    "for ship in captains:\n",
    "    print(ship, captains[ship])\n",
    "#ans - d)both a and b    "
   ]
  },
  {
   "cell_type": "code",
   "execution_count": 26,
   "metadata": {},
   "outputs": [
    {
     "ename": "SyntaxError",
     "evalue": "invalid syntax (<ipython-input-26-29849b5702c1>, line 7)",
     "output_type": "error",
     "traceback": [
      "\u001b[1;36m  File \u001b[1;32m\"<ipython-input-26-29849b5702c1>\"\u001b[1;36m, line \u001b[1;32m7\u001b[0m\n\u001b[1;33m    ans - d)captains = {}\u001b[0m\n\u001b[1;37m           ^\u001b[0m\n\u001b[1;31mSyntaxError\u001b[0m\u001b[1;31m:\u001b[0m invalid syntax\n"
     ]
    }
   ],
   "source": [
    "#question 17\n",
    "# Which of the following lines of code will create an empty dictionary named captains?\n",
    "# a) captains = {dict}\n",
    "# b) type(captains)\n",
    "# c) captains.dict()\n",
    "# d) captains = {}\n",
    "ans - d)captains = {}"
   ]
  },
  {
   "cell_type": "code",
   "execution_count": 28,
   "metadata": {},
   "outputs": [
    {
     "name": "stdout",
     "output_type": "stream",
     "text": [
      "{'Enterprise': 'Picard', 'Voyager': 'Janeway', 'Defiant': 'Sisko'}\n"
     ]
    }
   ],
   "source": [
    "#   question 18) \n",
    "#Now you have your empty dictionary named captains. It’s time to add some data!\n",
    "# Specifically, you want to add the key-value pairs \"Enterprise\": \"Picard\", \"Voyager\": \"Janeway\",\n",
    "# and \"Defiant\": \"Sisko\".\n",
    "\n",
    "# Which of the following code snippets will successfully add these key-value pairs to the\n",
    "# existing captains dictionary?\n",
    "\n",
    "# a) captains{\"Enterprise\" = \"Picard\"}\n",
    "# captains{\"Voyager\" = \"Janeway\"}\n",
    "# captains{\"Defiant\" = \"Sisko\"}\n",
    "\n",
    "# b) captains[\"Enterprise\"] = \"Picard\"\n",
    "# captains[\"Voyager\"] = \"Janeway\"\n",
    "# captains[\"Defiant\"] = \"Sisko\"\n",
    "\n",
    "# c) captains = {\n",
    "#  \"Enterprise\": \"Picard\",\n",
    "#  \"Voyager\": \"Janeway\",\n",
    "#  \"Defiant\": \"Sisko\",\n",
    "# }\n",
    "\n",
    "# d) None of the above\n",
    "captains = {\n",
    " \"Enterprise\": \"Picard\",\n",
    " \"Voyager\": \"Janeway\",\n",
    " \"Defiant\": \"Sisko\",\n",
    "}\n",
    "print(captains)\n",
    "#ans - c)"
   ]
  },
  {
   "cell_type": "code",
   "execution_count": 32,
   "metadata": {},
   "outputs": [
    {
     "name": "stdout",
     "output_type": "stream",
     "text": [
      "The Enterprise is captained by Picard.\n",
      "The Voyager is captained by Janeway.\n",
      "The Defiant is captained by Sisko.\n",
      "The Discovery is captained by unknown.\n"
     ]
    }
   ],
   "source": [
    "#19 ) You’re really building out the Federation Starfleet now! Here’s what you have:\n",
    "captains = {\n",
    " \"Enterprise\": \"Picard\",\n",
    " \"Voyager\": \"Janeway\",\n",
    " \"Defiant\": \"Sisko\",\n",
    " \"Discovery\": \"unknown\",\n",
    "}\n",
    "# Now, say you want to display the ship and captain names contained in the dictionary, but you also\n",
    "# want to provide some additional context. How could you do it?\n",
    "# a) for item in captains.items():\n",
    "#  print(f\"The [ship] is captained by [captain].\")\n",
    "# b) for ship, captain in captains.items():\n",
    "#  print(f\"The {ship} is captained by {captain}.\")\n",
    "# c) for captain, ship in captains.items():\n",
    "#  print(f\"The {ship} is captained by {captain}.\")\n",
    "# d) All are correct\n",
    "for ship, captain in captains.items():\n",
    "    print(f\"The {ship} is captained by {captain}.\")\n",
    "\n",
    "\n",
    "    #ans - b    "
   ]
  },
  {
   "cell_type": "code",
   "execution_count": 33,
   "metadata": {},
   "outputs": [
    {
     "name": "stdout",
     "output_type": "stream",
     "text": [
      "{'Enterprise': 'Picard', 'Voyager': 'Janeway', 'Defiant': 'Sisko'}\n"
     ]
    }
   ],
   "source": [
    " #Question 20 )\n",
    "# You’ve created a dictionary, added data, checked for the existence of keys, and iterated over it with\n",
    "# a for loop. Now you’re ready to delete a key from this dictionary:\n",
    "captains = {\n",
    " \"Enterprise\": \"Picard\",\n",
    " \"Voyager\": \"Janeway\",\n",
    " \"Defiant\": \"Sisko\",\n",
    " \"Discovery\": \"unknown\",\n",
    "}\n",
    "# What statement will remove the entry for the key \"Discovery\"?\n",
    "# a) del captains\n",
    "# b) captains.remove()\n",
    "# c) del captains[\"Discovery\"]\n",
    "# d) captains[\"Discovery\"].pop()\n",
    "del captains['Discovery']\n",
    "print(captains)\n",
    "\n",
    "#ans - c)delcaptains['Discovery'] "
   ]
  },
  {
   "cell_type": "code",
   "execution_count": null,
   "metadata": {},
   "outputs": [],
   "source": []
  }
 ],
 "metadata": {
  "kernelspec": {
   "display_name": "Python 3",
   "language": "python",
   "name": "python3"
  },
  "language_info": {
   "codemirror_mode": {
    "name": "ipython",
    "version": 3
   },
   "file_extension": ".py",
   "mimetype": "text/x-python",
   "name": "python",
   "nbconvert_exporter": "python",
   "pygments_lexer": "ipython3",
   "version": "3.7.6"
  }
 },
 "nbformat": 4,
 "nbformat_minor": 4
}
