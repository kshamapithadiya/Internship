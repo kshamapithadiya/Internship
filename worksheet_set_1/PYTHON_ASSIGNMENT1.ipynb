{
 "cells": [
  {
   "cell_type": "code",
   "execution_count": 2,
   "metadata": {},
   "outputs": [],
   "source": [
    "# 1.Which of the following operators is used to calculate remainder in a division?\n",
    "# A)#\tB) &\n",
    "# C) %\tD) $\n",
    "\n",
    "# ANS:C) %\n"
   ]
  },
  {
   "cell_type": "code",
   "execution_count": 4,
   "metadata": {},
   "outputs": [
    {
     "data": {
      "text/plain": [
       "0"
      ]
     },
     "execution_count": 4,
     "metadata": {},
     "output_type": "execute_result"
    }
   ],
   "source": [
    "# 2.\tIn python 2//3 is equal to?\n",
    "# A)\t0.666\tB) 0\n",
    "# C) 1\tD) 0.67\n",
    "2//3\n",
    "\n",
    "# ANS : B)0"
   ]
  },
  {
   "cell_type": "code",
   "execution_count": 6,
   "metadata": {},
   "outputs": [
    {
     "data": {
      "text/plain": [
       "24"
      ]
     },
     "execution_count": 6,
     "metadata": {},
     "output_type": "execute_result"
    }
   ],
   "source": [
    "# 3.\tIn python, 6<<2 is equal to?\n",
    "# A)\t36\tB) 10\n",
    "# C) 24\tD) 45\n",
    "6<<2\n",
    "\n",
    "# ANS : C)24"
   ]
  },
  {
   "cell_type": "code",
   "execution_count": 7,
   "metadata": {},
   "outputs": [
    {
     "data": {
      "text/plain": [
       "2"
      ]
     },
     "execution_count": 7,
     "metadata": {},
     "output_type": "execute_result"
    }
   ],
   "source": [
    "# 4.\tIn python, 6&2 will give which of the following as output?\n",
    "# A)\t2\tB) True\n",
    "# C) False\tD) 0\n",
    "6&2\n",
    "\n",
    "# ANS: A)2"
   ]
  },
  {
   "cell_type": "code",
   "execution_count": 8,
   "metadata": {},
   "outputs": [
    {
     "data": {
      "text/plain": [
       "6"
      ]
     },
     "execution_count": 8,
     "metadata": {},
     "output_type": "execute_result"
    }
   ],
   "source": [
    "# 5.\tIn python, 6|2 will give which of the following as output?\n",
    "# A)\t2\tB) 4\n",
    "# C) 0\tD) 6\n",
    "6|2\n",
    "\n",
    "# ANS: D)6"
   ]
  },
  {
   "cell_type": "code",
   "execution_count": 9,
   "metadata": {},
   "outputs": [],
   "source": [
    "# 6.\tWhat does the finally keyword denotes in python?\n",
    "# A)\tIt is used to mark the end of the code\n",
    "# B)\tIt encloses the lines of code which will be executed if any error occurs while executing the lines of code in the try block.\n",
    "# C)\tthe finally block will be executed no matter if the try block raises an error or not.\n",
    "# D)\tNone of the above\n",
    "\n",
    "# ANS: C)"
   ]
  },
  {
   "cell_type": "code",
   "execution_count": 10,
   "metadata": {},
   "outputs": [],
   "source": [
    "# 7.\tWhat does raise keyword is used for in python?\n",
    "# A)\tIt is used to raise an exception.\tB) It is used to define lambda function\n",
    "# C) it's not a keyword in python.\tD) None of the above\n",
    "\n",
    "# ANS: A) It is used to raise an exception\n"
   ]
  },
  {
   "cell_type": "code",
   "execution_count": 11,
   "metadata": {},
   "outputs": [],
   "source": [
    "# 8.\tWhich of the following is a common use case of yield keyword in python?\n",
    "# A)\tin defining an iterator\tB) while defining a lambda function\n",
    "# C) in defining a generator\tD) in for loop.\n",
    "\n",
    "# ANS : C) IN Defining a generator"
   ]
  },
  {
   "cell_type": "code",
   "execution_count": 12,
   "metadata": {},
   "outputs": [],
   "source": [
    "# 9.\tWhich of the following are the valid variable names?\n",
    "# A)\t_abc\tB) 1abc\n",
    "# C) abc2\tD) None of the above\n",
    "\n",
    "#ANS : A)_abc and c)abc2\n"
   ]
  },
  {
   "cell_type": "code",
   "execution_count": 13,
   "metadata": {},
   "outputs": [],
   "source": [
    "# 10.\tWhich of the following are the keywords in python?\n",
    "# A)\tyield\tB) raise\n",
    "# C) look-in\tD) all of the above\n",
    "\n",
    "#ANS : A) yield and B) raise\n"
   ]
  },
  {
   "cell_type": "code",
   "execution_count": 17,
   "metadata": {},
   "outputs": [
    {
     "name": "stdout",
     "output_type": "stream",
     "text": [
      "enter the number23\n",
      "factorial of a number 23 is 25852016738884976640000\n"
     ]
    }
   ],
   "source": [
    "#11.\tWrite a python program to find the factorial of a number\n",
    "num1 = int(input('enter the number'))\n",
    "\n",
    "fact = 1\n",
    "if num1 <= 0:\n",
    "    print('enter the positive number and greater than zero')\n",
    "else:\n",
    "    for i in range(1,num1+1):\n",
    "        fact = fact*i\n",
    "    print('factorial of a number',num1,'is',fact)"
   ]
  },
  {
   "cell_type": "code",
   "execution_count": 19,
   "metadata": {},
   "outputs": [
    {
     "name": "stdout",
     "output_type": "stream",
     "text": [
      "enter the number0\n",
      "it is not prime or not composite\n"
     ]
    }
   ],
   "source": [
    "# 12.\tWrite a python program to find whether a number is prime or composite\n",
    "num1 = int(input('enter the number'))\n",
    "if num1>1:\n",
    "    for i in range(2,num1):\n",
    "        if(num1 % 2 == 0):\n",
    "            print(num1,'it is composite number')\n",
    "            break\n",
    "        else:\n",
    "            print(num1,'it is prime numbe')\n",
    "else:\n",
    "    print('it is not prime or not composite')\n",
    "            "
   ]
  },
  {
   "cell_type": "code",
   "execution_count": 20,
   "metadata": {},
   "outputs": [
    {
     "name": "stdout",
     "output_type": "stream",
     "text": [
      "enter the stringmalayalam\n",
      "yes\n"
     ]
    }
   ],
   "source": [
    "# 13.\tWrite a python program to check whether a given string is palindrome or not.\n",
    "def isplindrom(str1):\n",
    "    return s == s[::-1]\n",
    "s = input('enter the string')\n",
    "ans = isplindrom(s)\n",
    "if ans:\n",
    "    print('yes')\n",
    "else:\n",
    "    print('no')"
   ]
  },
  {
   "cell_type": "code",
   "execution_count": 21,
   "metadata": {},
   "outputs": [
    {
     "name": "stdout",
     "output_type": "stream",
     "text": [
      "5.0\n"
     ]
    }
   ],
   "source": [
    "# 14.\tWrite a Python program to get the third side of right-angled triangle from two given sides.\n",
    "def test(x,y):\n",
    "    h = (x**2 + y**2)**0.5\n",
    "    return h\n",
    "print(test(3,4))"
   ]
  },
  {
   "cell_type": "code",
   "execution_count": 22,
   "metadata": {},
   "outputs": [
    {
     "name": "stdout",
     "output_type": "stream",
     "text": [
      "enter the stringsaregamapa\n",
      "each character in string:\n",
      "{'s': 1, 'a': 4, 'r': 1, 'e': 1, 'g': 1, 'm': 1, 'p': 1}\n"
     ]
    }
   ],
   "source": [
    "# 15.\tWrite a python program to print the frequency of each of the characters present in a given string\n",
    "str1 = input('enter the string')\n",
    "str2 ={}\n",
    "for i in str1:\n",
    "    if i in str2:\n",
    "        str2[i] += 1\n",
    "    else: \n",
    "        str2[i] = 1\n",
    "print('each character in string:\\n'+str(str2))        "
   ]
  },
  {
   "cell_type": "code",
   "execution_count": null,
   "metadata": {},
   "outputs": [],
   "source": []
  }
 ],
 "metadata": {
  "kernelspec": {
   "display_name": "Python 3",
   "language": "python",
   "name": "python3"
  },
  "language_info": {
   "codemirror_mode": {
    "name": "ipython",
    "version": 3
   },
   "file_extension": ".py",
   "mimetype": "text/x-python",
   "name": "python",
   "nbconvert_exporter": "python",
   "pygments_lexer": "ipython3",
   "version": "3.7.6"
  }
 },
 "nbformat": 4,
 "nbformat_minor": 4
}
